{
 "cells": [
  {
   "cell_type": "code",
   "execution_count": 2,
   "metadata": {
    "collapsed": false
   },
   "outputs": [
    {
     "name": "stdout",
     "output_type": "stream",
     "text": [
      "Populating the interactive namespace from numpy and matplotlib\n"
     ]
    }
   ],
   "source": [
    "%pylab inline\n",
    "from network.network import (is_valid_network,\n",
    "                             get_number_of_activated_antenna,\n",
    "                             can_antenna_be_turned_on,\n",
    "                             pp_network,\n",
    "                             turn_off_antenna,\n",
    "                             turn_on_antenna)\n",
    "from numpy import mean\n",
    "from random import Random\n"
   ]
  },
  {
   "cell_type": "code",
   "execution_count": 2,
   "metadata": {
    "collapsed": false
   },
   "outputs": [],
   "source": [
    "random = Random(666)\n",
    "\n",
    "def create_new_network(network, box_size):\n",
    "    number_of_square = box_size * box_size\n",
    "    for antenna in range(number_of_square):\n",
    "        if can_antenna_be_turned_on(antenna, network, box_size) and random.choice([True, False]):\n",
    "            network = turn_on_antenna(antenna, network)\n",
    "        else:\n",
    "            network = turn_off_antenna(antenna, network)\n",
    "    return network\n",
    "\n"
   ]
  },
  {
   "cell_type": "code",
   "execution_count": 12,
   "metadata": {
    "collapsed": false
   },
   "outputs": [],
   "source": [
    "box_size = 8\n",
    "n = 15000\n",
    "\n",
    "valid_networks = [0]\n",
    "\n",
    "for random_antenna in range(n):\n",
    "    network = valid_networks[-1]\n",
    "    new_network = create_new_network(network, box_size)\n",
    "    valid_networks.append(new_network)"
   ]
  },
  {
   "cell_type": "code",
   "execution_count": 13,
   "metadata": {
    "collapsed": false
   },
   "outputs": [
    {
     "data": {
      "image/png": "[encoded data removed]",
      "text/plain": [
       "<matplotlib.figure.Figure at 0x7f6ffacf3f60>"
      ]
     },
     "metadata": {},
     "output_type": "display_data"
    }
   ],
   "source": [
    "hist(list(map(get_number_of_activated_antenna, valid_networks)), bins=100)\n",
    "None"
   ]
  },
  {
   "cell_type": "code",
   "execution_count": 14,
   "metadata": {
    "collapsed": false
   },
   "outputs": [
    {
     "data": {
      "text/plain": [
       "15.072261849210053"
      ]
     },
     "execution_count": 14,
     "metadata": {},
     "output_type": "execute_result"
    }
   ],
   "source": [
    "mean(list(map(get_number_of_activated_antenna, valid_networks)))"
   ]
  },
  {
   "cell_type": "code",
   "execution_count": null,
   "metadata": {
    "collapsed": false
   },
   "outputs": [],
   "source": []
  },
  {
   "cell_type": "code",
   "execution_count": 11,
   "metadata": {
    "collapsed": false
   },
   "outputs": [
    {
     "name": "stdout",
     "output_type": "stream",
     "text": [
      "□-■-□-□-■\n",
      "□-□-■-□-□\n",
      "□-□-□-□-□\n",
      "□-■-□-■-□\n",
      "■-□-□-□-■\n",
      "\n",
      "□-□-□-□-■\n",
      "□-□-□-■-□\n",
      "■-□-■-□-■\n",
      "□-□-□-□-□\n",
      "■-□-■-□-□\n",
      "\n",
      "□-□-■-□-□\n",
      "□-■-□-□-□\n",
      "□-□-■-□-■\n",
      "□-□-□-■-□\n",
      "■-□-□-□-□\n",
      "\n",
      "□-□-□-□-□\n",
      "□-□-□-□-□\n",
      "■-□-■-□-■\n",
      "□-□-□-■-□\n",
      "□-□-■-□-■\n",
      "\n",
      "■-□-□-□-□\n",
      "□-□-□-■-□\n",
      "■-□-□-□-□\n",
      "□-■-□-■-□\n",
      "■-□-□-□-■\n",
      "\n",
      "□-■-□-□-■\n",
      "□-□-□-□-□\n",
      "■-□-□-□-□\n",
      "□-■-□-■-□\n",
      "■-□-■-□-□\n",
      "\n",
      "□-□-□-□-■\n",
      "□-□-□-□-□\n",
      "■-□-□-□-□\n",
      "□-■-□-□-□\n",
      "□-□-□-□-□\n",
      "\n",
      "■-□-□-□-□\n",
      "□-■-□-□-□\n",
      "□-□-■-□-■\n",
      "□-■-□-■-□\n",
      "□-□-□-□-■\n",
      "\n",
      "□-□-□-■-□\n",
      "□-■-□-□-□\n",
      "■-□-□-□-■\n",
      "□-□-□-□-□\n",
      "□-■-□-□-■\n",
      "\n",
      "■-□-□-□-□\n",
      "□-■-□-■-□\n",
      "■-□-■-□-■\n",
      "□-□-□-■-□\n",
      "□-□-□-□-□\n",
      "\n"
     ]
    }
   ],
   "source": [
    "for network in valid_networks[-10:]:\n",
    "    print(pp_network(network, box_size))"
   ]
  },
  {
   "cell_type": "code",
   "execution_count": 14,
   "metadata": {
    "collapsed": false
   },
   "outputs": [
    {
     "ename": "ValueError",
     "evalue": "Cannot take a larger sample than population when 'replace=False'",
     "output_type": "error",
     "traceback": [
      "\u001b[1;31m---------------------------------------------------------------------------\u001b[0m",
      "\u001b[1;31mValueError\u001b[0m                                Traceback (most recent call last)",
      "\u001b[1;32m<ipython-input-14-e2f587eeb987>\u001b[0m in \u001b[0;36m<module>\u001b[1;34m()\u001b[0m\n\u001b[1;32m----> 1\u001b[1;33m \u001b[0mrandom\u001b[0m\u001b[1;33m.\u001b[0m\u001b[0mchoice\u001b[0m\u001b[1;33m(\u001b[0m\u001b[1;33m[\u001b[0m\u001b[1;36m1\u001b[0m\u001b[1;33m,\u001b[0m\u001b[1;36m2\u001b[0m\u001b[1;33m,\u001b[0m\u001b[1;36m3\u001b[0m\u001b[1;33m,\u001b[0m\u001b[1;36m4\u001b[0m\u001b[1;33m]\u001b[0m\u001b[1;33m,\u001b[0m \u001b[1;36m111\u001b[0m\u001b[1;33m,\u001b[0m \u001b[0mreplace\u001b[0m\u001b[1;33m=\u001b[0m\u001b[1;32mFalse\u001b[0m\u001b[1;33m)\u001b[0m\u001b[1;33m\u001b[0m\u001b[0m\n\u001b[0m",
      "\u001b[1;32mmtrand.pyx\u001b[0m in \u001b[0;36mmtrand.RandomState.choice (numpy/random/mtrand/mtrand.c:11010)\u001b[1;34m()\u001b[0m\n",
      "\u001b[1;31mValueError\u001b[0m: Cannot take a larger sample than population when 'replace=False'"
     ]
    }
   ],
   "source": [
    "random.choice([1,2,3,4], 111, replace=False)"
   ]
  },
  {
   "cell_type": "code",
   "execution_count": null,
   "metadata": {
    "collapsed": true
   },
   "outputs": [],
   "source": []
  }
 ],
 "metadata": {
  "kernelspec": {
   "display_name": "Python 3",
   "language": "python",
   "name": "python3"
  },
  "language_info": {
   "codemirror_mode": {
    "name": "ipython",
    "version": 3
   },
   "file_extension": ".py",
   "mimetype": "text/x-python",
   "name": "python",
   "nbconvert_exporter": "python",
   "pygments_lexer": "ipython3",
   "version": "3.4.3+"
  }
 },
 "nbformat": 4,
 "nbformat_minor": 0
}
