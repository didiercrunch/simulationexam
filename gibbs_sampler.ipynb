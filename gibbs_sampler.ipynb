{
 "cells": [
  {
   "cell_type": "code",
   "execution_count": 1,
   "metadata": {
    "collapsed": false
   },
   "outputs": [
    {
     "name": "stdout",
     "output_type": "stream",
     "text": [
      "Populating the interactive namespace from numpy and matplotlib\n"
     ]
    }
   ],
   "source": [
    "%pylab inline\n",
    "from network.network import (is_valid_network,\n",
    "                             get_number_of_activated_antenna,\n",
    "                             can_antenna_be_turned_on,\n",
    "                             pp_network,\n",
    "                             turn_off_antenna,\n",
    "                             turn_on_antenna)\n",
    "from network.gibbs import get_random_networks, estimate_number_of_activated_antenna\n",
    "from numpy import mean\n",
    "from random import Random\n"
   ]
  },
  {
   "cell_type": "code",
   "execution_count": 5,
   "metadata": {
    "collapsed": false
   },
   "outputs": [],
   "source": [
    "random = Random()\n",
    "antennas = []\n",
    "box_size = 8\n",
    "N = 500\n",
    "for _, network in zip(range(N), get_random_networks(box_size, random)):\n",
    "    antennas.append(get_number_of_activated_antenna(network))\n",
    "    \n",
    "    "
   ]
  },
  {
   "cell_type": "code",
   "execution_count": 6,
   "metadata": {
    "collapsed": false
   },
   "outputs": [
    {
     "data": {
      "image/png": "[encoded data removed]",
      "text/plain": [
       "<matplotlib.figure.Figure at 0x7f88746b0208>"
      ]
     },
     "metadata": {},
     "output_type": "display_data"
    }
   ],
   "source": [
    "hist(antennas, bins=100)\n",
    "title(\"Estimation de la distribution du nombre \\n d'antennes allumées dans un réseau\")\n",
    "savefig(\"/home/didier/Downloads/gibbs.png\")"
   ]
  },
  {
   "cell_type": "code",
   "execution_count": null,
   "metadata": {
    "collapsed": true
   },
   "outputs": [],
   "source": []
  }
 ],
 "metadata": {
  "kernelspec": {
   "display_name": "Python 3",
   "language": "python",
   "name": "python3"
  },
  "language_info": {
   "codemirror_mode": {
    "name": "ipython",
    "version": 3
   },
   "file_extension": ".py",
   "mimetype": "text/x-python",
   "name": "python",
   "nbconvert_exporter": "python",
   "pygments_lexer": "ipython3",
   "version": "3.4.3+"
  }
 },
 "nbformat": 4,
 "nbformat_minor": 0
}
