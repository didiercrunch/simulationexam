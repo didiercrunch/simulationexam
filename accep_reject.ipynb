{
 "cells": [
  {
   "cell_type": "code",
   "execution_count": 2,
   "metadata": {
    "collapsed": false
   },
   "outputs": [
    {
     "name": "stdout",
     "output_type": "stream",
     "text": [
      "Populating the interactive namespace from numpy and matplotlib\n"
     ]
    }
   ],
   "source": [
    "%pylab inline\n",
    "from network.network import is_valid_network, get_number_of_activated_antenna, pp_network\n",
    "from numpy import mean\n",
    "from random import Random"
   ]
  },
  {
   "cell_type": "code",
   "execution_count": 2,
   "metadata": {
    "collapsed": false
   },
   "outputs": [],
   "source": [
    "random = Random(666)\n",
    "def get_some_possible_network(n, box_size):\n",
    "    number_of_square = box_size * box_size\n",
    "    for i in range(n):\n",
    "        yield random.randint(0, 2 ** number_of_square - 1)"
   ]
  },
  {
   "cell_type": "code",
   "execution_count": 15,
   "metadata": {
    "collapsed": true
   },
   "outputs": [],
   "source": [
    "box_size = 8\n",
    "n = 10**7\n",
    "\n",
    "valid_networks = []\n",
    "for network in get_some_possible_network(n, box_size):\n",
    "    if is_valid_network(network, box_size):\n",
    "        valid_networks.append(network)"
   ]
  },
  {
   "cell_type": "code",
   "execution_count": 16,
   "metadata": {
    "collapsed": false
   },
   "outputs": [
    {
     "data": {
      "image/png": "[encoded data removed]",
      "text/plain": [
       "<matplotlib.figure.Figure at 0x7f3178a0edd8>"
      ]
     },
     "metadata": {},
     "output_type": "display_data"
    }
   ],
   "source": [
    "hist(list(map(get_number_of_activated_antenna, valid_networks)), bins=100)\n",
    "None"
   ]
  },
  {
   "cell_type": "code",
   "execution_count": 17,
   "metadata": {
    "collapsed": false
   },
   "outputs": [
    {
     "data": {
      "text/plain": [
       "18.0"
      ]
     },
     "execution_count": 17,
     "metadata": {},
     "output_type": "execute_result"
    }
   ],
   "source": [
    "mean(list(map(get_number_of_activated_antenna, valid_networks)))"
   ]
  },
  {
   "cell_type": "code",
   "execution_count": 19,
   "metadata": {
    "collapsed": false
   },
   "outputs": [
    {
     "name": "stdout",
     "output_type": "stream",
     "text": [
      "□-□-□-□-■-□-□-□\n",
      "■-□-□-□-□-■-□-■\n",
      "□-■-□-■-□-□-■-□\n",
      "□-□-■-□-□-■-□-■\n",
      "■-□-□-□-■-□-■-□\n",
      "□-■-□-□-□-□-□-□\n",
      "□-□-□-□-□-□-■-□\n",
      "■-□-□-□-□-■-□-■\n",
      "\n"
     ]
    }
   ],
   "source": [
    "print(pp_network(valid_networks[0], 8))"
   ]
  },
  {
   "cell_type": "code",
   "execution_count": null,
   "metadata": {
    "collapsed": true
   },
   "outputs": [],
   "source": []
  }
 ],
 "metadata": {
  "kernelspec": {
   "display_name": "Python 3",
   "language": "python",
   "name": "python3"
  },
  "language_info": {
   "codemirror_mode": {
    "name": "ipython",
    "version": 3
   },
   "file_extension": ".py",
   "mimetype": "text/x-python",
   "name": "python",
   "nbconvert_exporter": "python",
   "pygments_lexer": "ipython3",
   "version": "3.4.3+"
  }
 },
 "nbformat": 4,
 "nbformat_minor": 0
}
