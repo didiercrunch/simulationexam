{
 "cells": [
  {
   "cell_type": "code",
   "execution_count": 1,
   "metadata": {
    "collapsed": false
   },
   "outputs": [
    {
     "name": "stdout",
     "output_type": "stream",
     "text": [
      "Populating the interactive namespace from numpy and matplotlib\n"
     ]
    }
   ],
   "source": [
    "%pylab inline\n",
    "from network.network import (is_valid_network,\n",
    "                             create_network,\n",
    "                             get_number_of_activated_antenna,\n",
    "                             get_activated_antennas,\n",
    "                             can_antenna_be_turned_on,\n",
    "                             pp_network,\n",
    "                             turn_off_antenna,\n",
    "                             turn_on_antenna)\n",
    "\n",
    "from network.impSamp import AntennaGenerator\n",
    "from numpy import mean\n",
    "from random import Random"
   ]
  },
  {
   "cell_type": "code",
   "execution_count": 43,
   "metadata": {
    "collapsed": false
   },
   "outputs": [],
   "source": [
    "random = Random(666)\n",
    "\n",
    "def get_random_network(box_size, random):\n",
    "    antenna_generator = AntennaGenerator(box_size, random)\n",
    "    antennas = []\n",
    "    antenna, network_prob = antenna_generator.get_random_antenna()\n",
    "\n",
    "    while antenna != -1:\n",
    "        antennas.append(antenna)\n",
    "        antenna, p = antenna_generator.get_random_antenna()\n",
    "        network_prob *= p\n",
    "        \n",
    "    return create_network(antennas), network_prob\n",
    "    "
   ]
  },
  {
   "cell_type": "code",
   "execution_count": 5,
   "metadata": {
    "collapsed": false
   },
   "outputs": [],
   "source": [
    "box_size = 4\n",
    "antannas = [0,1,2,3]\n",
    "\n",
    "for i in range(1000):\n",
    "    network = get_random_network(box_size)\n"
   ]
  },
  {
   "cell_type": "code",
   "execution_count": 6,
   "metadata": {
    "collapsed": false
   },
   "outputs": [],
   "source": [
    "box_size = 5\n",
    "for i in range(100000):\n",
    "    network, p = get_random_network(box_size)\n",
    "#     print(\"network\", network)\n",
    "#     print(pp_network(network, box_size))"
   ]
  },
  {
   "cell_type": "code",
   "execution_count": null,
   "metadata": {
    "collapsed": false
   },
   "outputs": [],
   "source": [
    "ds = list(reversed(range(10)))"
   ]
  },
  {
   "cell_type": "code",
   "execution_count": 47,
   "metadata": {
    "collapsed": false
   },
   "outputs": [],
   "source": [
    "all_networks = set()\n",
    "\n",
    "\n",
    "        "
   ]
  },
  {
   "cell_type": "code",
   "execution_count": 45,
   "metadata": {
    "collapsed": false
   },
   "outputs": [
    {
     "data": {
      "text/plain": [
       "5.582214353409138"
      ]
     },
     "execution_count": 45,
     "metadata": {},
     "output_type": "execute_result"
    }
   ],
   "source": [
    "get_estimation(1000000, random)"
   ]
  },
  {
   "cell_type": "code",
   "execution_count": 37,
   "metadata": {
    "collapsed": false
   },
   "outputs": [
    {
     "data": {
      "text/plain": [
       "25318"
      ]
     },
     "execution_count": 37,
     "metadata": {},
     "output_type": "execute_result"
    }
   ],
   "source": [
    "len(all_networks)"
   ]
  }
 ],
 "metadata": {
  "kernelspec": {
   "display_name": "Python 3",
   "language": "python",
   "name": "python3"
  },
  "language_info": {
   "codemirror_mode": {
    "name": "ipython",
    "version": 3
   },
   "file_extension": ".py",
   "mimetype": "text/x-python",
   "name": "python",
   "nbconvert_exporter": "python",
   "pygments_lexer": "ipython3",
   "version": "3.4.3+"
  }
 },
 "nbformat": 4,
 "nbformat_minor": 0
}
